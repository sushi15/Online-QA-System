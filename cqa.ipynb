{
  "nbformat": 4,
  "nbformat_minor": 0,
  "metadata": {
    "accelerator": "GPU",
    "colab": {
      "name": "cqa.ipynb",
      "provenance": [],
      "collapsed_sections": [],
      "authorship_tag": "ABX9TyPV3I8U5pXVkezRVEHds12E",
      "include_colab_link": true
    },
    "kernelspec": {
      "display_name": "Python 3",
      "name": "python3"
    },
    "language_info": {
      "name": "python"
    }
  },
  "cells": [
    {
      "cell_type": "markdown",
      "metadata": {
        "id": "view-in-github",
        "colab_type": "text"
      },
      "source": [
        "<a href=\"https://colab.research.google.com/github/sushi15/Wiki-QA/blob/main/cqa.ipynb\" target=\"_parent\"><img src=\"https://colab.research.google.com/assets/colab-badge.svg\" alt=\"Open In Colab\"/></a>"
      ]
    },
    {
      "cell_type": "markdown",
      "metadata": {
        "id": "5e2QfN3I89Lw"
      },
      "source": [
        "## Imports"
      ]
    },
    {
      "cell_type": "code",
      "metadata": {
        "colab": {
          "base_uri": "https://localhost:8080/"
        },
        "id": "wB_cpvs7awqI",
        "outputId": "f6171b84-0d1c-474f-b63a-56784bbef471"
      },
      "source": [
        "import itertools\n",
        "import os \n",
        "import string \n",
        "\n",
        "import matplotlib.pylab as plt \n",
        "from matplotlib import pyplot\n",
        "import numpy as np \n",
        "import pandas as pd \n",
        "\n",
        "import tensorflow as tf\n",
        "\n",
        "import random \n",
        "import re\n",
        "import nltk \n",
        "nltk.download('wordnet')\n",
        "nltk.download('punkt')\n",
        "nltk.download('averaged_perceptron_tagger') \n",
        "\n",
        "from nltk.corpus import stopwords\n",
        "nltk.download('stopwords') \n",
        "from nltk.tokenize import word_tokenize\n",
        "from nltk.stem.lancaster import LancasterStemmer\n",
        "lancaster_stemmer = LancasterStemmer()\n",
        "from nltk.stem import WordNetLemmatizer\n",
        "wordnet_lemmatizer = WordNetLemmatizer() \n",
        "\n",
        "from sklearn.feature_extraction.text import TfidfVectorizer\n",
        "from sklearn.metrics.pairwise import cosine_similarity \n",
        "from sklearn.metrics.pairwise import linear_kernel "
      ],
      "execution_count": null,
      "outputs": [
        {
          "output_type": "stream",
          "name": "stdout",
          "text": [
            "[nltk_data] Downloading package wordnet to /root/nltk_data...\n",
            "[nltk_data]   Package wordnet is already up-to-date!\n",
            "[nltk_data] Downloading package punkt to /root/nltk_data...\n",
            "[nltk_data]   Package punkt is already up-to-date!\n",
            "[nltk_data] Downloading package averaged_perceptron_tagger to\n",
            "[nltk_data]     /root/nltk_data...\n",
            "[nltk_data]   Package averaged_perceptron_tagger is already up-to-\n",
            "[nltk_data]       date!\n",
            "[nltk_data] Downloading package stopwords to /root/nltk_data...\n",
            "[nltk_data]   Package stopwords is already up-to-date!\n"
          ]
        }
      ]
    },
    {
      "cell_type": "markdown",
      "metadata": {
        "id": "vRYxtaD59BBx"
      },
      "source": [
        "## Modules"
      ]
    },
    {
      "cell_type": "code",
      "metadata": {
        "id": "UHFako2Z9E3P"
      },
      "source": [
        "qa_pairs1 = pd.read_csv('cqa.csv', sep=',', header=0, encoding=\"utf-8\") #Dataframe"
      ],
      "execution_count": null,
      "outputs": []
    },
    {
      "cell_type": "code",
      "metadata": {
        "colab": {
          "base_uri": "https://localhost:8080/",
          "height": 580
        },
        "id": "mHetgWQVBctE",
        "outputId": "c1d15d19-035f-436b-eccf-6100ce1c4fbc"
      },
      "source": [
        "qa_pairs1"
      ],
      "execution_count": null,
      "outputs": [
        {
          "output_type": "execute_result",
          "data": {
            "text/html": [
              "<div>\n",
              "<style scoped>\n",
              "    .dataframe tbody tr th:only-of-type {\n",
              "        vertical-align: middle;\n",
              "    }\n",
              "\n",
              "    .dataframe tbody tr th {\n",
              "        vertical-align: top;\n",
              "    }\n",
              "\n",
              "    .dataframe thead th {\n",
              "        text-align: right;\n",
              "    }\n",
              "</style>\n",
              "<table border=\"1\" class=\"dataframe\">\n",
              "  <thead>\n",
              "    <tr style=\"text-align: right;\">\n",
              "      <th></th>\n",
              "      <th>subject</th>\n",
              "      <th>question</th>\n",
              "      <th>answers</th>\n",
              "    </tr>\n",
              "  </thead>\n",
              "  <tbody>\n",
              "    <tr>\n",
              "      <th>0</th>\n",
              "      <td>how to view old facebook statuses without clic...</td>\n",
              "      <td>im pretty bored, so i wanted to view my old fa...</td>\n",
              "      <td>['facebook deletes old status updates after X ...</td>\n",
              "    </tr>\n",
              "    <tr>\n",
              "      <th>1</th>\n",
              "      <td>how can i make sure my facebook friends can se...</td>\n",
              "      <td>on facebook, i went to privacy &amp;gt; preview pr...</td>\n",
              "      <td>['check your privacy settings', \"If the photo ...</td>\n",
              "    </tr>\n",
              "    <tr>\n",
              "      <th>2</th>\n",
              "      <td>how do i block someone on facebook without del...</td>\n",
              "      <td>well, i just feel like telling you guys why :p...</td>\n",
              "      <td>['Hover over Settings at the top of the page a...</td>\n",
              "    </tr>\n",
              "    <tr>\n",
              "      <th>3</th>\n",
              "      <td>how to change settings on facebook?</td>\n",
              "      <td>if i comment or like on someones photo on face...</td>\n",
              "      <td>[\"I don't think you can\", 'if you go to your p...</td>\n",
              "    </tr>\n",
              "    <tr>\n",
              "      <th>4</th>\n",
              "      <td>girls facebook everywhere and messy?</td>\n",
              "      <td>what are the girls talking about on facebook w...</td>\n",
              "      <td>['?????? dont get your question! sorry', \"I go...</td>\n",
              "    </tr>\n",
              "    <tr>\n",
              "      <th>...</th>\n",
              "      <td>...</td>\n",
              "      <td>...</td>\n",
              "      <td>...</td>\n",
              "    </tr>\n",
              "    <tr>\n",
              "      <th>1402</th>\n",
              "      <td>can i become a youtube partner without generat...</td>\n",
              "      <td>i am part of an online community called pjtv, ...</td>\n",
              "      <td>['I\\'ve been a partner for almost two years. G...</td>\n",
              "    </tr>\n",
              "    <tr>\n",
              "      <th>1403</th>\n",
              "      <td>which username is cooler? YouTube</td>\n",
              "      <td>[1] telbi\\n\\n[2] saulja\\n</td>\n",
              "      <td>['Telbi???? =/', 'Either one. Why not both? On...</td>\n",
              "    </tr>\n",
              "    <tr>\n",
              "      <th>1404</th>\n",
              "      <td>when i send a video to me from u tube i get a ...</td>\n",
              "      <td>i open mail from u tube yesterday and don't kn...</td>\n",
              "      <td>['Error 404 usually means a file can\\'t be fou...</td>\n",
              "    </tr>\n",
              "    <tr>\n",
              "      <th>1405</th>\n",
              "      <td>why won't youtube let me sign in!?</td>\n",
              "      <td>i was signed in to youtube but it randomly sig...</td>\n",
              "      <td>['Try a different computer???', 'There could b...</td>\n",
              "    </tr>\n",
              "    <tr>\n",
              "      <th>1406</th>\n",
              "      <td>what is the funniest thing you have seen on yo...</td>\n",
              "      <td>can you add a link please\\n\\ni found this  htt...</td>\n",
              "      <td>['http://www.youtube.com/user/mychonny?blend=1...</td>\n",
              "    </tr>\n",
              "  </tbody>\n",
              "</table>\n",
              "<p>1407 rows × 3 columns</p>\n",
              "</div>"
            ],
            "text/plain": [
              "                                                subject  ...                                            answers\n",
              "0     how to view old facebook statuses without clic...  ...  ['facebook deletes old status updates after X ...\n",
              "1     how can i make sure my facebook friends can se...  ...  ['check your privacy settings', \"If the photo ...\n",
              "2     how do i block someone on facebook without del...  ...  ['Hover over Settings at the top of the page a...\n",
              "3                   how to change settings on facebook?  ...  [\"I don't think you can\", 'if you go to your p...\n",
              "4                  girls facebook everywhere and messy?  ...  ['?????? dont get your question! sorry', \"I go...\n",
              "...                                                 ...  ...                                                ...\n",
              "1402  can i become a youtube partner without generat...  ...  ['I\\'ve been a partner for almost two years. G...\n",
              "1403                  which username is cooler? YouTube  ...  ['Telbi???? =/', 'Either one. Why not both? On...\n",
              "1404  when i send a video to me from u tube i get a ...  ...  ['Error 404 usually means a file can\\'t be fou...\n",
              "1405                 why won't youtube let me sign in!?  ...  ['Try a different computer???', 'There could b...\n",
              "1406  what is the funniest thing you have seen on yo...  ...  ['http://www.youtube.com/user/mychonny?blend=1...\n",
              "\n",
              "[1407 rows x 3 columns]"
            ]
          },
          "metadata": {},
          "execution_count": 48
        }
      ]
    },
    {
      "cell_type": "code",
      "metadata": {
        "id": "kZ8rz2PpEdfV"
      },
      "source": [
        "qa_pairs_l1 = qa_pairs1.values.tolist()"
      ],
      "execution_count": null,
      "outputs": []
    },
    {
      "cell_type": "code",
      "source": [
        "qa_pairs2 = pd.read_csv('test.csv', sep=',', header=0, encoding=\"utf-8\") #Dataframe"
      ],
      "metadata": {
        "id": "F-8Cj5q8Qfdq"
      },
      "execution_count": null,
      "outputs": []
    },
    {
      "cell_type": "code",
      "source": [
        "del qa_pairs2[\"class index\"]"
      ],
      "metadata": {
        "id": "WotIVTweQkWZ"
      },
      "execution_count": null,
      "outputs": []
    },
    {
      "cell_type": "code",
      "source": [
        "qa_pairs2"
      ],
      "metadata": {
        "colab": {
          "base_uri": "https://localhost:8080/",
          "height": 563
        },
        "id": "PUC06cnEQoYl",
        "outputId": "2393ef8c-02dc-4c25-9109-b161610e4a99"
      },
      "execution_count": null,
      "outputs": [
        {
          "output_type": "execute_result",
          "data": {
            "text/html": [
              "<div>\n",
              "<style scoped>\n",
              "    .dataframe tbody tr th:only-of-type {\n",
              "        vertical-align: middle;\n",
              "    }\n",
              "\n",
              "    .dataframe tbody tr th {\n",
              "        vertical-align: top;\n",
              "    }\n",
              "\n",
              "    .dataframe thead th {\n",
              "        text-align: right;\n",
              "    }\n",
              "</style>\n",
              "<table border=\"1\" class=\"dataframe\">\n",
              "  <thead>\n",
              "    <tr style=\"text-align: right;\">\n",
              "      <th></th>\n",
              "      <th>subject</th>\n",
              "      <th>question</th>\n",
              "      <th>answer</th>\n",
              "    </tr>\n",
              "  </thead>\n",
              "  <tbody>\n",
              "    <tr>\n",
              "      <th>0</th>\n",
              "      <td>What makes friendship click?</td>\n",
              "      <td>How does the spark keep going?</td>\n",
              "      <td>good communication is what does it.  Can you m...</td>\n",
              "    </tr>\n",
              "    <tr>\n",
              "      <th>1</th>\n",
              "      <td>Why does Zebras have stripes?</td>\n",
              "      <td>What is the purpose or those stripes? Who do t...</td>\n",
              "      <td>this provides camouflage - predator vision is ...</td>\n",
              "    </tr>\n",
              "    <tr>\n",
              "      <th>2</th>\n",
              "      <td>What did the itsy bitsy sipder climb up?</td>\n",
              "      <td>NaN</td>\n",
              "      <td>waterspout</td>\n",
              "    </tr>\n",
              "    <tr>\n",
              "      <th>3</th>\n",
              "      <td>What is the difference between a Bachelors and...</td>\n",
              "      <td>NaN</td>\n",
              "      <td>One difference between a Bachelors and a Maste...</td>\n",
              "    </tr>\n",
              "    <tr>\n",
              "      <th>4</th>\n",
              "      <td>Why do women get PMS?</td>\n",
              "      <td>NaN</td>\n",
              "      <td>Premenstrual syndrome (PMS) is a group of symp...</td>\n",
              "    </tr>\n",
              "    <tr>\n",
              "      <th>...</th>\n",
              "      <td>...</td>\n",
              "      <td>...</td>\n",
              "      <td>...</td>\n",
              "    </tr>\n",
              "    <tr>\n",
              "      <th>59995</th>\n",
              "      <td>if you could be any fantasy figure, who would ...</td>\n",
              "      <td>NaN</td>\n",
              "      <td>The invisible man, I'd be straight into the gi...</td>\n",
              "    </tr>\n",
              "    <tr>\n",
              "      <th>59996</th>\n",
              "      <td>Tell me something about life most people don't...</td>\n",
              "      <td>Do you know anything about life, or words of w...</td>\n",
              "      <td>That there is a hell and everyone thinks their...</td>\n",
              "    </tr>\n",
              "    <tr>\n",
              "      <th>59997</th>\n",
              "      <td>Why are men always thinking of sex?</td>\n",
              "      <td>NaN</td>\n",
              "      <td>It's wired in our brain</td>\n",
              "    </tr>\n",
              "    <tr>\n",
              "      <th>59998</th>\n",
              "      <td>est ce que DOMENECH est un entraineur: 1: de f...</td>\n",
              "      <td>NaN</td>\n",
              "      <td>de foot mais pas pour être sélectionneur d'une...</td>\n",
              "    </tr>\n",
              "    <tr>\n",
              "      <th>59999</th>\n",
              "      <td>No sound or low sound?</td>\n",
              "      <td>I have my volume turned up all the way and hav...</td>\n",
              "      <td>As an old techie, I tend to look at the hardwa...</td>\n",
              "    </tr>\n",
              "  </tbody>\n",
              "</table>\n",
              "<p>60000 rows × 3 columns</p>\n",
              "</div>"
            ],
            "text/plain": [
              "                                                 subject  ...                                             answer\n",
              "0                           What makes friendship click?  ...  good communication is what does it.  Can you m...\n",
              "1                          Why does Zebras have stripes?  ...  this provides camouflage - predator vision is ...\n",
              "2               What did the itsy bitsy sipder climb up?  ...                                         waterspout\n",
              "3      What is the difference between a Bachelors and...  ...  One difference between a Bachelors and a Maste...\n",
              "4                                  Why do women get PMS?  ...  Premenstrual syndrome (PMS) is a group of symp...\n",
              "...                                                  ...  ...                                                ...\n",
              "59995  if you could be any fantasy figure, who would ...  ...  The invisible man, I'd be straight into the gi...\n",
              "59996  Tell me something about life most people don't...  ...  That there is a hell and everyone thinks their...\n",
              "59997                Why are men always thinking of sex?  ...                            It's wired in our brain\n",
              "59998  est ce que DOMENECH est un entraineur: 1: de f...  ...  de foot mais pas pour être sélectionneur d'une...\n",
              "59999                             No sound or low sound?  ...  As an old techie, I tend to look at the hardwa...\n",
              "\n",
              "[60000 rows x 3 columns]"
            ]
          },
          "metadata": {},
          "execution_count": 52
        }
      ]
    },
    {
      "cell_type": "code",
      "source": [
        "qa_pairs_l2 = qa_pairs2.values.tolist()"
      ],
      "metadata": {
        "id": "5GAglmkhQrJ0"
      },
      "execution_count": null,
      "outputs": []
    },
    {
      "cell_type": "code",
      "source": [
        "qa_pairs_ext = [] \n",
        "for i in range(10): \n",
        "  qa_pairs_ext += qa_pairs_l2[i * 6000:i * 6000 + 500] "
      ],
      "metadata": {
        "id": "r_0Bamvs6lDz"
      },
      "execution_count": null,
      "outputs": []
    },
    {
      "cell_type": "code",
      "source": [
        "len(qa_pairs_ext)"
      ],
      "metadata": {
        "colab": {
          "base_uri": "https://localhost:8080/"
        },
        "id": "NKCMe0kY8cAB",
        "outputId": "dd207187-1687-4fbd-a209-2c6751112737"
      },
      "execution_count": null,
      "outputs": [
        {
          "output_type": "execute_result",
          "data": {
            "text/plain": [
              "5000"
            ]
          },
          "metadata": {},
          "execution_count": 74
        }
      ]
    },
    {
      "cell_type": "code",
      "metadata": {
        "colab": {
          "base_uri": "https://localhost:8080/"
        },
        "id": "SY8iyFANBeXa",
        "outputId": "615b0ad1-32cf-4cbf-b2ea-174d89da826c"
      },
      "source": [
        "question = input(\"Enter question: \") "
      ],
      "execution_count": null,
      "outputs": [
        {
          "name": "stdout",
          "output_type": "stream",
          "text": [
            "Enter question: Who played the Red Queen in Alice in Wonderland?\n"
          ]
        }
      ]
    },
    {
      "cell_type": "code",
      "metadata": {
        "id": "3zJORZi3CUid"
      },
      "source": [
        "def getKeywords(question): \n",
        "    tagged = nltk.pos_tag(nltk.word_tokenize(question)) \n",
        "    print(question)\n",
        "    print(tagged) \n",
        "\n",
        "    # The NLTK POS Tagger follows the Penn Treebank Project tag conventions \n",
        "    # Only the following kinds of words are extracted from the query as keywords \n",
        "    limit = ['FW', 'JJ', 'JJS', 'JJR', 'NN', 'NNS', 'NNP', 'NNPS', 'SYM', 'VB'] \n",
        "    keywords = [i[0] for i in tagged if i[1] in limit]\n",
        "    print(keywords) \n",
        "    return keywords "
      ],
      "execution_count": null,
      "outputs": []
    },
    {
      "cell_type": "code",
      "metadata": {
        "id": "1jb4l8jaChel",
        "colab": {
          "base_uri": "https://localhost:8080/"
        },
        "outputId": "090da3f8-3f81-4b75-db03-48987523d777"
      },
      "source": [
        "keywords = getKeywords(question)"
      ],
      "execution_count": null,
      "outputs": [
        {
          "output_type": "stream",
          "name": "stdout",
          "text": [
            "Who played the Red Queen in Alice in Wonderland?\n",
            "[('Who', 'WP'), ('played', 'VBD'), ('the', 'DT'), ('Red', 'NNP'), ('Queen', 'NNP'), ('in', 'IN'), ('Alice', 'NNP'), ('in', 'IN'), ('Wonderland', 'NNP'), ('?', '.')]\n",
            "['Red', 'Queen', 'Alice', 'Wonderland']\n"
          ]
        }
      ]
    },
    {
      "cell_type": "code",
      "metadata": {
        "id": "UrU0ESfcYc46"
      },
      "source": [
        "# ql = len(question)"
      ],
      "execution_count": null,
      "outputs": []
    },
    {
      "cell_type": "code",
      "metadata": {
        "id": "2WWSdNVvE0Rg"
      },
      "source": [
        "def cosSim(question, qa_pairs_l): \n",
        "  res = {}\n",
        "  subs =[]\n",
        "  for i in range(len(qa_pairs_l)): \n",
        "    subs.append(qa_pairs_l[i][0])\n",
        "  subs.insert(0, question) \n",
        "  tfidf = TfidfVectorizer().fit_transform(subs) \n",
        "  cosSims = linear_kernel(tfidf[0:1], tfidf).flatten() \n",
        "  i = 1 \n",
        "  while i < len(subs): \n",
        "    subs[i] = i - 1 \n",
        "    i += 1 \n",
        "  subs = dict(zip(subs, cosSims)) \n",
        "  subs = dict(sorted(subs.items(), key = lambda item: item[1], reverse = True)) \n",
        "  # print(subs)\n",
        "  subsk = list(subs.keys()) \n",
        "  subsv = list(subs.values()) \n",
        "  i = 1 \n",
        "  while i < 10: \n",
        "    res[subsk[i]] = subsv[i] \n",
        "    i += 1 \n",
        "  res = sorted(res.items(), key = lambda i: i[1], reverse = True) \n",
        "  return res \n"
      ],
      "execution_count": null,
      "outputs": []
    },
    {
      "cell_type": "code",
      "metadata": {
        "id": "YHQSI_6uCkVJ"
      },
      "source": [
        "def diceMetric(keywords, qa_pairs_l, ql): \n",
        "  res = {}\n",
        "  for i in range(len(qa_pairs_l)): \n",
        "    count = 0 \n",
        "    for j in keywords: \n",
        "      if j in qa_pairs_l[i][0]: \n",
        "        count += 1 \n",
        "    count *= 2 \n",
        "    count /= (ql + len(qa_pairs_l[i][0])) \n",
        "    res[i] = count \n",
        "  res = sorted(res.items(), key = lambda i: i[1]) \n",
        "  res = res[::-1]\n",
        "  return res[:10]"
      ],
      "execution_count": null,
      "outputs": []
    },
    {
      "cell_type": "code",
      "metadata": {
        "id": "Fu_q9tKkiAW2"
      },
      "source": [
        "# c = cosSim(question, qa_pairs_l2)"
      ],
      "execution_count": null,
      "outputs": []
    },
    {
      "cell_type": "code",
      "metadata": {
        "id": "X6IrlVFvsuP0"
      },
      "source": [
        "# print(c)"
      ],
      "execution_count": null,
      "outputs": []
    },
    {
      "cell_type": "code",
      "metadata": {
        "id": "Pi38YaP5YyM-"
      },
      "source": [
        "# d = diceMetric(keywords, qa_pairs_l2, ql)"
      ],
      "execution_count": null,
      "outputs": []
    },
    {
      "cell_type": "code",
      "metadata": {
        "id": "x2vyzgFUY3I6"
      },
      "source": [
        "# print(d)"
      ],
      "execution_count": null,
      "outputs": []
    },
    {
      "cell_type": "code",
      "metadata": {
        "colab": {
          "base_uri": "https://localhost:8080/"
        },
        "id": "2IeOk1QXevyc",
        "outputId": "03a1e409-a9a5-45b2-ec15-3d4ece18c24c"
      },
      "source": [
        "stop_words = set(stopwords.words('english'))\n",
        "if \"the\" in stop_words: \n",
        "  print(\"Yes\")"
      ],
      "execution_count": null,
      "outputs": [
        {
          "output_type": "stream",
          "name": "stdout",
          "text": [
            "Yes\n"
          ]
        }
      ]
    },
    {
      "cell_type": "code",
      "metadata": {
        "id": "VWZfDwW5Y5Pu"
      },
      "source": [
        "def levenshtein(question, res, qa_pairs_l): \n",
        "  qc = question.translate(str.maketrans('', '', string.punctuation)) \n",
        "  tq = qc.split(\" \")\n",
        "  fin = {}\n",
        "  for i in res: \n",
        "    curr = qa_pairs_l[i[0]][0].translate(str.maketrans('', '', string.punctuation)) \n",
        "    tcurr = curr.split(\" \") \n",
        "    count = 0 \n",
        "    for j in tq: \n",
        "      if j not in stop_words and j in tcurr: \n",
        "        count += 1 \n",
        "    fin[i[0]] = count * i[1] \n",
        "    # fin[i[0]] = count \n",
        "  fin = sorted(fin.items(), key = lambda i: i[1]) \n",
        "  # print(fin)\n",
        "  return fin[-1][0] \n",
        "  # return fin[0][0]"
      ],
      "execution_count": null,
      "outputs": []
    },
    {
      "cell_type": "code",
      "metadata": {
        "id": "0eTJc897d07Q"
      },
      "source": [
        "def levenshtein_mod(question, res, qa_pairs_l): \n",
        "  qc = question.translate(str.maketrans('', '', string.punctuation)) \n",
        "  tq = qc.split(\" \")\n",
        "  fin = {}\n",
        "  for i in range(len(res)): \n",
        "    curr = qa_pairs_l[i][0].translate(str.maketrans('', '', string.punctuation)) \n",
        "    tcurr = curr.split(\" \") \n",
        "    count = 0 \n",
        "    for j in tq: \n",
        "      if j not in stop_words and j in tcurr: \n",
        "        count += 1 \n",
        "    fin[i] = count\n",
        "  fin = sorted(fin.items(), key = lambda i: i[1]) \n",
        "  # print(fin)\n",
        "  return fin[-1][0] \n",
        "  # return fin[0][0] "
      ],
      "execution_count": null,
      "outputs": []
    },
    {
      "cell_type": "code",
      "metadata": {
        "id": "byPjOfq3s7pI"
      },
      "source": [
        "# ind = levenshtein(question, c, qa_pairs_l2) "
      ],
      "execution_count": null,
      "outputs": []
    },
    {
      "cell_type": "code",
      "metadata": {
        "id": "JV2sY-engVf2"
      },
      "source": [
        "# ind = levenshtein(question, d, qa_pairs_l2) "
      ],
      "execution_count": null,
      "outputs": []
    },
    {
      "cell_type": "code",
      "metadata": {
        "id": "hZiF0htdgg4n"
      },
      "source": [
        "# print(ind)"
      ],
      "execution_count": null,
      "outputs": []
    },
    {
      "cell_type": "code",
      "metadata": {
        "id": "JgjDn1-_gpDc"
      },
      "source": [
        "# print(qa_pairs_l2[ind])"
      ],
      "execution_count": null,
      "outputs": []
    },
    {
      "cell_type": "code",
      "metadata": {
        "id": "aI4s7o5yg3KR"
      },
      "source": [
        "def encaps(question, qa_pairs_l): \n",
        "  keywords = getKeywords(question) \n",
        "  ql = len(question) \n",
        "  \n",
        "  # Only Levenstein with count\n",
        "  # ind = levenshtein_mod(question, qa_pairs_l, qa_pairs_l) \n",
        "\n",
        "  # Dice + Levenshtein without mult \n",
        "  # d = diceMetric(keywords, qa_pairs_l, ql) \n",
        "  # stop_words = set(stopwords.words('english')) \n",
        "  # ind = levenshtein(question, d, qa_pairs_l) # Reverse fin lines\n",
        "\n",
        "  # Dice + Levenshtein with mult \n",
        "  # d = diceMetric(keywords, qa_pairs_l, ql) \n",
        "  # stop_words = set(stopwords.words('english')) \n",
        "  # ind = levenshtein(question, d, qa_pairs_l) \n",
        "\n",
        "  # CosSim only \n",
        "  # ind = cosSim(question, qa_pairs_l) \n",
        "\n",
        "  # CosSim + Levenshtein without mult \n",
        "  # c = cosSim(question, qa_pairs_l) \n",
        "  # ind = levenshtein(question, c, qa_pairs_l) # Reverse fin lines \n",
        "\n",
        "  # CosSim + Levenshtein with mult \n",
        "  c = cosSim(question, qa_pairs_l) \n",
        "  ind = levenshtein(question, c, qa_pairs_l) \n",
        "  \n",
        "  # print(qa_pairs_l[ind])\n",
        "  return ind "
      ],
      "execution_count": null,
      "outputs": []
    },
    {
      "cell_type": "code",
      "metadata": {
        "id": "3X0i_8-b52WK"
      },
      "source": [
        "# ans = encaps(question, qa_pairs_l2)"
      ],
      "execution_count": null,
      "outputs": []
    },
    {
      "cell_type": "code",
      "metadata": {
        "id": "-4rv1HOobL0u"
      },
      "source": [
        "# print(ans)"
      ],
      "execution_count": null,
      "outputs": []
    },
    {
      "cell_type": "code",
      "metadata": {
        "id": "ULNMug3Q58_j"
      },
      "source": [
        "def eval(qa_pairs_l): \n",
        "  count = 0 \n",
        "  for i in range(len(qa_pairs_l)): \n",
        "    q = qa_pairs_l[i][0]\n",
        "    ans = encaps(q, qa_pairs_l) \n",
        "    if qa_pairs_l[ans][0] == q: \n",
        "      count += 1 \n",
        "  ratio = count / len(qa_pairs_l) \n",
        "  return ratio"
      ],
      "execution_count": null,
      "outputs": []
    },
    {
      "cell_type": "code",
      "metadata": {
        "id": "K_7xiv00JT0A"
      },
      "source": [
        "def eval_mod(qa_pairs_l): \n",
        "  precision = 0 \n",
        "  recall = 0 \n",
        "  for i in range(len(qa_pairs_l)): \n",
        "    q = qa_pairs_l[i][0]\n",
        "    ans = encaps(q, qa_pairs_l) \n",
        "    if qa_pairs_l[ans][0] == q: \n",
        "      precision += 1 \n",
        "      recall += 1 \n",
        "    else: \n",
        "      shared = 0 \n",
        "      qset = list(set(q.split(\" \"))) \n",
        "      ansset = list(set(qa_pairs_l[ans][0].split(\" \")))\n",
        "      for j in qset: \n",
        "        if j in ansset: \n",
        "          shared += 1 \n",
        "      # print(shared / len(qa_pairs_l[ans][0]), i)\n",
        "      precision += shared / len(qa_pairs_l[ans][0]) \n",
        "      recall += shared / len(q) \n",
        "  precision /= len(qa_pairs_l) \n",
        "  recall /= len(qa_pairs_l) \n",
        "  print(precision, recall) \n",
        "  fscore = 2 * (precision * recall) / (precision + recall) \n",
        "  return fscore "
      ],
      "execution_count": null,
      "outputs": []
    },
    {
      "cell_type": "code",
      "metadata": {
        "id": "y0nP-Edv8Mex",
        "colab": {
          "base_uri": "https://localhost:8080/"
        },
        "outputId": "d9cee2e9-52c8-4b08-bb14-844cd95ad0b5"
      },
      "source": [
        "eval(qa_pairs_ext)"
      ],
      "execution_count": null,
      "outputs": [
        {
          "output_type": "execute_result",
          "data": {
            "text/plain": [
              "0.9986"
            ]
          },
          "metadata": {},
          "execution_count": 112
        }
      ]
    },
    {
      "cell_type": "code",
      "metadata": {
        "id": "XVXFRX3fNAvd",
        "colab": {
          "base_uri": "https://localhost:8080/"
        },
        "outputId": "eb1a3721-a2e3-4730-e5d6-8bec2b1161c0"
      },
      "source": [
        "eval_mod(qa_pairs_ext)"
      ],
      "execution_count": null,
      "outputs": [
        {
          "output_type": "stream",
          "name": "stdout",
          "text": [
            "0.9987204440827714 0.9987769863469861\n"
          ]
        },
        {
          "output_type": "execute_result",
          "data": {
            "text/plain": [
              "0.9987487144146204"
            ]
          },
          "metadata": {},
          "execution_count": 113
        }
      ]
    },
    {
      "cell_type": "code",
      "metadata": {
        "id": "PiBfmLz9AvBg"
      },
      "source": [
        ""
      ],
      "execution_count": null,
      "outputs": []
    }
  ]
}