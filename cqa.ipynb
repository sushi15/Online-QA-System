{
  "nbformat": 4,
  "nbformat_minor": 0,
  "metadata": {
    "accelerator": "GPU",
    "colab": {
      "name": "cqa.ipynb",
      "provenance": [],
      "collapsed_sections": [],
      "authorship_tag": "ABX9TyNZy8Jp6fDqPMvaoJOlU10f",
      "include_colab_link": true
    },
    "kernelspec": {
      "display_name": "Python 3",
      "name": "python3"
    },
    "language_info": {
      "name": "python"
    }
  },
  "cells": [
    {
      "cell_type": "markdown",
      "metadata": {
        "id": "view-in-github",
        "colab_type": "text"
      },
      "source": [
        "<a href=\"https://colab.research.google.com/github/sushi15/Online-QA-System/blob/main/cqa.ipynb\" target=\"_parent\"><img src=\"https://colab.research.google.com/assets/colab-badge.svg\" alt=\"Open In Colab\"/></a>"
      ]
    },
    {
      "cell_type": "markdown",
      "metadata": {
        "id": "5e2QfN3I89Lw"
      },
      "source": [
        "## Imports"
      ]
    },
    {
      "cell_type": "code",
      "metadata": {
        "colab": {
          "base_uri": "https://localhost:8080/"
        },
        "id": "wB_cpvs7awqI",
        "outputId": "f56d714c-757f-4b67-9074-8414efc825f9"
      },
      "source": [
        "import itertools\n",
        "import os \n",
        "import string \n",
        "\n",
        "import matplotlib.pylab as plt \n",
        "from matplotlib import pyplot\n",
        "import numpy as np \n",
        "import pandas as pd \n",
        "\n",
        "import tensorflow as tf\n",
        "\n",
        "import random \n",
        "import re\n",
        "import nltk \n",
        "nltk.download('wordnet')\n",
        "nltk.download('punkt')\n",
        "nltk.download('averaged_perceptron_tagger') \n",
        "\n",
        "from nltk.corpus import stopwords\n",
        "nltk.download('stopwords') \n",
        "from nltk.tokenize import word_tokenize\n",
        "from nltk.stem.lancaster import LancasterStemmer\n",
        "lancaster_stemmer = LancasterStemmer()\n",
        "from nltk.stem import WordNetLemmatizer\n",
        "wordnet_lemmatizer = WordNetLemmatizer() \n",
        "\n",
        "from sklearn.feature_extraction.text import TfidfVectorizer\n",
        "from sklearn.metrics.pairwise import cosine_similarity \n",
        "from sklearn.metrics.pairwise import linear_kernel "
      ],
      "execution_count": 3,
      "outputs": [
        {
          "output_type": "stream",
          "name": "stderr",
          "text": [
            "[nltk_data] Downloading package wordnet to /root/nltk_data...\n",
            "[nltk_data]   Package wordnet is already up-to-date!\n",
            "[nltk_data] Downloading package punkt to /root/nltk_data...\n",
            "[nltk_data]   Package punkt is already up-to-date!\n",
            "[nltk_data] Downloading package averaged_perceptron_tagger to\n",
            "[nltk_data]     /root/nltk_data...\n",
            "[nltk_data]   Package averaged_perceptron_tagger is already up-to-\n",
            "[nltk_data]       date!\n",
            "[nltk_data] Downloading package stopwords to /root/nltk_data...\n",
            "[nltk_data]   Package stopwords is already up-to-date!\n"
          ]
        }
      ]
    },
    {
      "cell_type": "markdown",
      "metadata": {
        "id": "vRYxtaD59BBx"
      },
      "source": [
        "## Load datasets"
      ]
    },
    {
      "cell_type": "code",
      "metadata": {
        "id": "UHFako2Z9E3P"
      },
      "source": [
        "qa_pairs1 = pd.read_csv('cqa.csv', sep=',', header=0, encoding=\"utf-8\") #Dataframe"
      ],
      "execution_count": 4,
      "outputs": []
    },
    {
      "cell_type": "code",
      "metadata": {
        "colab": {
          "base_uri": "https://localhost:8080/",
          "height": 424
        },
        "id": "mHetgWQVBctE",
        "outputId": "8ab13a61-b2c3-4722-bb02-07a07dafd6c4"
      },
      "source": [
        "qa_pairs1"
      ],
      "execution_count": 5,
      "outputs": [
        {
          "output_type": "execute_result",
          "data": {
            "text/plain": [
              "                                                subject  \\\n",
              "0     how to view old facebook statuses without clic...   \n",
              "1     how can i make sure my facebook friends can se...   \n",
              "2     how do i block someone on facebook without del...   \n",
              "3                   how to change settings on facebook?   \n",
              "4                  girls facebook everywhere and messy?   \n",
              "...                                                 ...   \n",
              "1402  can i become a youtube partner without generat...   \n",
              "1403                  which username is cooler? YouTube   \n",
              "1404  when i send a video to me from u tube i get a ...   \n",
              "1405                 why won't youtube let me sign in!?   \n",
              "1406  what is the funniest thing you have seen on yo...   \n",
              "\n",
              "                                               question  \\\n",
              "0     im pretty bored, so i wanted to view my old fa...   \n",
              "1     on facebook, i went to privacy &gt; preview pr...   \n",
              "2     well, i just feel like telling you guys why :p...   \n",
              "3     if i comment or like on someones photo on face...   \n",
              "4     what are the girls talking about on facebook w...   \n",
              "...                                                 ...   \n",
              "1402  i am part of an online community called pjtv, ...   \n",
              "1403                          [1] telbi\\n\\n[2] saulja\\n   \n",
              "1404  i open mail from u tube yesterday and don't kn...   \n",
              "1405  i was signed in to youtube but it randomly sig...   \n",
              "1406  can you add a link please\\n\\ni found this  htt...   \n",
              "\n",
              "                                                answers  \n",
              "0     ['facebook deletes old status updates after X ...  \n",
              "1     ['check your privacy settings', \"If the photo ...  \n",
              "2     ['Hover over Settings at the top of the page a...  \n",
              "3     [\"I don't think you can\", 'if you go to your p...  \n",
              "4     ['?????? dont get your question! sorry', \"I go...  \n",
              "...                                                 ...  \n",
              "1402  ['I\\'ve been a partner for almost two years. G...  \n",
              "1403  ['Telbi???? =/', 'Either one. Why not both? On...  \n",
              "1404  ['Error 404 usually means a file can\\'t be fou...  \n",
              "1405  ['Try a different computer???', 'There could b...  \n",
              "1406  ['http://www.youtube.com/user/mychonny?blend=1...  \n",
              "\n",
              "[1407 rows x 3 columns]"
            ],
            "text/html": [
              "\n",
              "  <div id=\"df-26b69e67-0921-4bf5-a6be-aa7a99373494\">\n",
              "    <div class=\"colab-df-container\">\n",
              "      <div>\n",
              "<style scoped>\n",
              "    .dataframe tbody tr th:only-of-type {\n",
              "        vertical-align: middle;\n",
              "    }\n",
              "\n",
              "    .dataframe tbody tr th {\n",
              "        vertical-align: top;\n",
              "    }\n",
              "\n",
              "    .dataframe thead th {\n",
              "        text-align: right;\n",
              "    }\n",
              "</style>\n",
              "<table border=\"1\" class=\"dataframe\">\n",
              "  <thead>\n",
              "    <tr style=\"text-align: right;\">\n",
              "      <th></th>\n",
              "      <th>subject</th>\n",
              "      <th>question</th>\n",
              "      <th>answers</th>\n",
              "    </tr>\n",
              "  </thead>\n",
              "  <tbody>\n",
              "    <tr>\n",
              "      <th>0</th>\n",
              "      <td>how to view old facebook statuses without clic...</td>\n",
              "      <td>im pretty bored, so i wanted to view my old fa...</td>\n",
              "      <td>['facebook deletes old status updates after X ...</td>\n",
              "    </tr>\n",
              "    <tr>\n",
              "      <th>1</th>\n",
              "      <td>how can i make sure my facebook friends can se...</td>\n",
              "      <td>on facebook, i went to privacy &amp;gt; preview pr...</td>\n",
              "      <td>['check your privacy settings', \"If the photo ...</td>\n",
              "    </tr>\n",
              "    <tr>\n",
              "      <th>2</th>\n",
              "      <td>how do i block someone on facebook without del...</td>\n",
              "      <td>well, i just feel like telling you guys why :p...</td>\n",
              "      <td>['Hover over Settings at the top of the page a...</td>\n",
              "    </tr>\n",
              "    <tr>\n",
              "      <th>3</th>\n",
              "      <td>how to change settings on facebook?</td>\n",
              "      <td>if i comment or like on someones photo on face...</td>\n",
              "      <td>[\"I don't think you can\", 'if you go to your p...</td>\n",
              "    </tr>\n",
              "    <tr>\n",
              "      <th>4</th>\n",
              "      <td>girls facebook everywhere and messy?</td>\n",
              "      <td>what are the girls talking about on facebook w...</td>\n",
              "      <td>['?????? dont get your question! sorry', \"I go...</td>\n",
              "    </tr>\n",
              "    <tr>\n",
              "      <th>...</th>\n",
              "      <td>...</td>\n",
              "      <td>...</td>\n",
              "      <td>...</td>\n",
              "    </tr>\n",
              "    <tr>\n",
              "      <th>1402</th>\n",
              "      <td>can i become a youtube partner without generat...</td>\n",
              "      <td>i am part of an online community called pjtv, ...</td>\n",
              "      <td>['I\\'ve been a partner for almost two years. G...</td>\n",
              "    </tr>\n",
              "    <tr>\n",
              "      <th>1403</th>\n",
              "      <td>which username is cooler? YouTube</td>\n",
              "      <td>[1] telbi\\n\\n[2] saulja\\n</td>\n",
              "      <td>['Telbi???? =/', 'Either one. Why not both? On...</td>\n",
              "    </tr>\n",
              "    <tr>\n",
              "      <th>1404</th>\n",
              "      <td>when i send a video to me from u tube i get a ...</td>\n",
              "      <td>i open mail from u tube yesterday and don't kn...</td>\n",
              "      <td>['Error 404 usually means a file can\\'t be fou...</td>\n",
              "    </tr>\n",
              "    <tr>\n",
              "      <th>1405</th>\n",
              "      <td>why won't youtube let me sign in!?</td>\n",
              "      <td>i was signed in to youtube but it randomly sig...</td>\n",
              "      <td>['Try a different computer???', 'There could b...</td>\n",
              "    </tr>\n",
              "    <tr>\n",
              "      <th>1406</th>\n",
              "      <td>what is the funniest thing you have seen on yo...</td>\n",
              "      <td>can you add a link please\\n\\ni found this  htt...</td>\n",
              "      <td>['http://www.youtube.com/user/mychonny?blend=1...</td>\n",
              "    </tr>\n",
              "  </tbody>\n",
              "</table>\n",
              "<p>1407 rows × 3 columns</p>\n",
              "</div>\n",
              "      <button class=\"colab-df-convert\" onclick=\"convertToInteractive('df-26b69e67-0921-4bf5-a6be-aa7a99373494')\"\n",
              "              title=\"Convert this dataframe to an interactive table.\"\n",
              "              style=\"display:none;\">\n",
              "        \n",
              "  <svg xmlns=\"http://www.w3.org/2000/svg\" height=\"24px\"viewBox=\"0 0 24 24\"\n",
              "       width=\"24px\">\n",
              "    <path d=\"M0 0h24v24H0V0z\" fill=\"none\"/>\n",
              "    <path d=\"M18.56 5.44l.94 2.06.94-2.06 2.06-.94-2.06-.94-.94-2.06-.94 2.06-2.06.94zm-11 1L8.5 8.5l.94-2.06 2.06-.94-2.06-.94L8.5 2.5l-.94 2.06-2.06.94zm10 10l.94 2.06.94-2.06 2.06-.94-2.06-.94-.94-2.06-.94 2.06-2.06.94z\"/><path d=\"M17.41 7.96l-1.37-1.37c-.4-.4-.92-.59-1.43-.59-.52 0-1.04.2-1.43.59L10.3 9.45l-7.72 7.72c-.78.78-.78 2.05 0 2.83L4 21.41c.39.39.9.59 1.41.59.51 0 1.02-.2 1.41-.59l7.78-7.78 2.81-2.81c.8-.78.8-2.07 0-2.86zM5.41 20L4 18.59l7.72-7.72 1.47 1.35L5.41 20z\"/>\n",
              "  </svg>\n",
              "      </button>\n",
              "      \n",
              "  <style>\n",
              "    .colab-df-container {\n",
              "      display:flex;\n",
              "      flex-wrap:wrap;\n",
              "      gap: 12px;\n",
              "    }\n",
              "\n",
              "    .colab-df-convert {\n",
              "      background-color: #E8F0FE;\n",
              "      border: none;\n",
              "      border-radius: 50%;\n",
              "      cursor: pointer;\n",
              "      display: none;\n",
              "      fill: #1967D2;\n",
              "      height: 32px;\n",
              "      padding: 0 0 0 0;\n",
              "      width: 32px;\n",
              "    }\n",
              "\n",
              "    .colab-df-convert:hover {\n",
              "      background-color: #E2EBFA;\n",
              "      box-shadow: 0px 1px 2px rgba(60, 64, 67, 0.3), 0px 1px 3px 1px rgba(60, 64, 67, 0.15);\n",
              "      fill: #174EA6;\n",
              "    }\n",
              "\n",
              "    [theme=dark] .colab-df-convert {\n",
              "      background-color: #3B4455;\n",
              "      fill: #D2E3FC;\n",
              "    }\n",
              "\n",
              "    [theme=dark] .colab-df-convert:hover {\n",
              "      background-color: #434B5C;\n",
              "      box-shadow: 0px 1px 3px 1px rgba(0, 0, 0, 0.15);\n",
              "      filter: drop-shadow(0px 1px 2px rgba(0, 0, 0, 0.3));\n",
              "      fill: #FFFFFF;\n",
              "    }\n",
              "  </style>\n",
              "\n",
              "      <script>\n",
              "        const buttonEl =\n",
              "          document.querySelector('#df-26b69e67-0921-4bf5-a6be-aa7a99373494 button.colab-df-convert');\n",
              "        buttonEl.style.display =\n",
              "          google.colab.kernel.accessAllowed ? 'block' : 'none';\n",
              "\n",
              "        async function convertToInteractive(key) {\n",
              "          const element = document.querySelector('#df-26b69e67-0921-4bf5-a6be-aa7a99373494');\n",
              "          const dataTable =\n",
              "            await google.colab.kernel.invokeFunction('convertToInteractive',\n",
              "                                                     [key], {});\n",
              "          if (!dataTable) return;\n",
              "\n",
              "          const docLinkHtml = 'Like what you see? Visit the ' +\n",
              "            '<a target=\"_blank\" href=https://colab.research.google.com/notebooks/data_table.ipynb>data table notebook</a>'\n",
              "            + ' to learn more about interactive tables.';\n",
              "          element.innerHTML = '';\n",
              "          dataTable['output_type'] = 'display_data';\n",
              "          await google.colab.output.renderOutput(dataTable, element);\n",
              "          const docLink = document.createElement('div');\n",
              "          docLink.innerHTML = docLinkHtml;\n",
              "          element.appendChild(docLink);\n",
              "        }\n",
              "      </script>\n",
              "    </div>\n",
              "  </div>\n",
              "  "
            ]
          },
          "metadata": {},
          "execution_count": 5
        }
      ]
    },
    {
      "cell_type": "code",
      "metadata": {
        "id": "kZ8rz2PpEdfV"
      },
      "source": [
        "qa_pairs_l1 = qa_pairs1.values.tolist()"
      ],
      "execution_count": 6,
      "outputs": []
    },
    {
      "cell_type": "code",
      "source": [
        "qa_pairs2 = pd.read_csv('test.csv', sep=',', header=0, encoding=\"utf-8\") #Dataframe"
      ],
      "metadata": {
        "id": "F-8Cj5q8Qfdq"
      },
      "execution_count": 17,
      "outputs": []
    },
    {
      "cell_type": "code",
      "source": [
        "qa_pairs2[\"subject\"]"
      ],
      "metadata": {
        "colab": {
          "base_uri": "https://localhost:8080/"
        },
        "id": "0vyOyDs8N4zD",
        "outputId": "4aa83ca6-7344-4544-c36c-74d65c4f49c1"
      },
      "execution_count": 18,
      "outputs": [
        {
          "output_type": "execute_result",
          "data": {
            "text/plain": [
              "0                             What makes friendship click?\n",
              "1                            Why does Zebras have stripes?\n",
              "2                 What did the itsy bitsy sipder climb up?\n",
              "3        What is the difference between a Bachelors and...\n",
              "4                                    Why do women get PMS?\n",
              "                               ...                        \n",
              "59995    if you could be any fantasy figure, who would ...\n",
              "59996    Tell me something about life most people don't...\n",
              "59997                  Why are men always thinking of sex?\n",
              "59998    est ce que DOMENECH est un entraineur: 1: de f...\n",
              "59999                               No sound or low sound?\n",
              "Name: subject, Length: 60000, dtype: object"
            ]
          },
          "metadata": {},
          "execution_count": 18
        }
      ]
    },
    {
      "cell_type": "code",
      "source": [
        "del qa_pairs2[\"class\"]"
      ],
      "metadata": {
        "id": "WotIVTweQkWZ"
      },
      "execution_count": 19,
      "outputs": []
    },
    {
      "cell_type": "code",
      "source": [
        "qa_pairs2"
      ],
      "metadata": {
        "colab": {
          "base_uri": "https://localhost:8080/",
          "height": 424
        },
        "id": "PUC06cnEQoYl",
        "outputId": "0c9a5b0f-51b5-4e31-9916-22310d074406"
      },
      "execution_count": 20,
      "outputs": [
        {
          "output_type": "execute_result",
          "data": {
            "text/plain": [
              "                                                 subject  \\\n",
              "0                           What makes friendship click?   \n",
              "1                          Why does Zebras have stripes?   \n",
              "2               What did the itsy bitsy sipder climb up?   \n",
              "3      What is the difference between a Bachelors and...   \n",
              "4                                  Why do women get PMS?   \n",
              "...                                                  ...   \n",
              "59995  if you could be any fantasy figure, who would ...   \n",
              "59996  Tell me something about life most people don't...   \n",
              "59997                Why are men always thinking of sex?   \n",
              "59998  est ce que DOMENECH est un entraineur: 1: de f...   \n",
              "59999                             No sound or low sound?   \n",
              "\n",
              "                                                question  \\\n",
              "0                         How does the spark keep going?   \n",
              "1      What is the purpose or those stripes? Who do t...   \n",
              "2                                                    NaN   \n",
              "3                                                    NaN   \n",
              "4                                                    NaN   \n",
              "...                                                  ...   \n",
              "59995                                                NaN   \n",
              "59996  Do you know anything about life, or words of w...   \n",
              "59997                                                NaN   \n",
              "59998                                                NaN   \n",
              "59999  I have my volume turned up all the way and hav...   \n",
              "\n",
              "                                                 answers  \n",
              "0      good communication is what does it.  Can you m...  \n",
              "1      this provides camouflage - predator vision is ...  \n",
              "2                                             waterspout  \n",
              "3      One difference between a Bachelors and a Maste...  \n",
              "4      Premenstrual syndrome (PMS) is a group of symp...  \n",
              "...                                                  ...  \n",
              "59995  The invisible man, I'd be straight into the gi...  \n",
              "59996  That there is a hell and everyone thinks their...  \n",
              "59997                            It's wired in our brain  \n",
              "59998  de foot mais pas pour être sélectionneur d'une...  \n",
              "59999  As an old techie, I tend to look at the hardwa...  \n",
              "\n",
              "[60000 rows x 3 columns]"
            ],
            "text/html": [
              "\n",
              "  <div id=\"df-54b1cbed-9813-44f7-b8d1-8b26bd4947fb\">\n",
              "    <div class=\"colab-df-container\">\n",
              "      <div>\n",
              "<style scoped>\n",
              "    .dataframe tbody tr th:only-of-type {\n",
              "        vertical-align: middle;\n",
              "    }\n",
              "\n",
              "    .dataframe tbody tr th {\n",
              "        vertical-align: top;\n",
              "    }\n",
              "\n",
              "    .dataframe thead th {\n",
              "        text-align: right;\n",
              "    }\n",
              "</style>\n",
              "<table border=\"1\" class=\"dataframe\">\n",
              "  <thead>\n",
              "    <tr style=\"text-align: right;\">\n",
              "      <th></th>\n",
              "      <th>subject</th>\n",
              "      <th>question</th>\n",
              "      <th>answers</th>\n",
              "    </tr>\n",
              "  </thead>\n",
              "  <tbody>\n",
              "    <tr>\n",
              "      <th>0</th>\n",
              "      <td>What makes friendship click?</td>\n",
              "      <td>How does the spark keep going?</td>\n",
              "      <td>good communication is what does it.  Can you m...</td>\n",
              "    </tr>\n",
              "    <tr>\n",
              "      <th>1</th>\n",
              "      <td>Why does Zebras have stripes?</td>\n",
              "      <td>What is the purpose or those stripes? Who do t...</td>\n",
              "      <td>this provides camouflage - predator vision is ...</td>\n",
              "    </tr>\n",
              "    <tr>\n",
              "      <th>2</th>\n",
              "      <td>What did the itsy bitsy sipder climb up?</td>\n",
              "      <td>NaN</td>\n",
              "      <td>waterspout</td>\n",
              "    </tr>\n",
              "    <tr>\n",
              "      <th>3</th>\n",
              "      <td>What is the difference between a Bachelors and...</td>\n",
              "      <td>NaN</td>\n",
              "      <td>One difference between a Bachelors and a Maste...</td>\n",
              "    </tr>\n",
              "    <tr>\n",
              "      <th>4</th>\n",
              "      <td>Why do women get PMS?</td>\n",
              "      <td>NaN</td>\n",
              "      <td>Premenstrual syndrome (PMS) is a group of symp...</td>\n",
              "    </tr>\n",
              "    <tr>\n",
              "      <th>...</th>\n",
              "      <td>...</td>\n",
              "      <td>...</td>\n",
              "      <td>...</td>\n",
              "    </tr>\n",
              "    <tr>\n",
              "      <th>59995</th>\n",
              "      <td>if you could be any fantasy figure, who would ...</td>\n",
              "      <td>NaN</td>\n",
              "      <td>The invisible man, I'd be straight into the gi...</td>\n",
              "    </tr>\n",
              "    <tr>\n",
              "      <th>59996</th>\n",
              "      <td>Tell me something about life most people don't...</td>\n",
              "      <td>Do you know anything about life, or words of w...</td>\n",
              "      <td>That there is a hell and everyone thinks their...</td>\n",
              "    </tr>\n",
              "    <tr>\n",
              "      <th>59997</th>\n",
              "      <td>Why are men always thinking of sex?</td>\n",
              "      <td>NaN</td>\n",
              "      <td>It's wired in our brain</td>\n",
              "    </tr>\n",
              "    <tr>\n",
              "      <th>59998</th>\n",
              "      <td>est ce que DOMENECH est un entraineur: 1: de f...</td>\n",
              "      <td>NaN</td>\n",
              "      <td>de foot mais pas pour être sélectionneur d'une...</td>\n",
              "    </tr>\n",
              "    <tr>\n",
              "      <th>59999</th>\n",
              "      <td>No sound or low sound?</td>\n",
              "      <td>I have my volume turned up all the way and hav...</td>\n",
              "      <td>As an old techie, I tend to look at the hardwa...</td>\n",
              "    </tr>\n",
              "  </tbody>\n",
              "</table>\n",
              "<p>60000 rows × 3 columns</p>\n",
              "</div>\n",
              "      <button class=\"colab-df-convert\" onclick=\"convertToInteractive('df-54b1cbed-9813-44f7-b8d1-8b26bd4947fb')\"\n",
              "              title=\"Convert this dataframe to an interactive table.\"\n",
              "              style=\"display:none;\">\n",
              "        \n",
              "  <svg xmlns=\"http://www.w3.org/2000/svg\" height=\"24px\"viewBox=\"0 0 24 24\"\n",
              "       width=\"24px\">\n",
              "    <path d=\"M0 0h24v24H0V0z\" fill=\"none\"/>\n",
              "    <path d=\"M18.56 5.44l.94 2.06.94-2.06 2.06-.94-2.06-.94-.94-2.06-.94 2.06-2.06.94zm-11 1L8.5 8.5l.94-2.06 2.06-.94-2.06-.94L8.5 2.5l-.94 2.06-2.06.94zm10 10l.94 2.06.94-2.06 2.06-.94-2.06-.94-.94-2.06-.94 2.06-2.06.94z\"/><path d=\"M17.41 7.96l-1.37-1.37c-.4-.4-.92-.59-1.43-.59-.52 0-1.04.2-1.43.59L10.3 9.45l-7.72 7.72c-.78.78-.78 2.05 0 2.83L4 21.41c.39.39.9.59 1.41.59.51 0 1.02-.2 1.41-.59l7.78-7.78 2.81-2.81c.8-.78.8-2.07 0-2.86zM5.41 20L4 18.59l7.72-7.72 1.47 1.35L5.41 20z\"/>\n",
              "  </svg>\n",
              "      </button>\n",
              "      \n",
              "  <style>\n",
              "    .colab-df-container {\n",
              "      display:flex;\n",
              "      flex-wrap:wrap;\n",
              "      gap: 12px;\n",
              "    }\n",
              "\n",
              "    .colab-df-convert {\n",
              "      background-color: #E8F0FE;\n",
              "      border: none;\n",
              "      border-radius: 50%;\n",
              "      cursor: pointer;\n",
              "      display: none;\n",
              "      fill: #1967D2;\n",
              "      height: 32px;\n",
              "      padding: 0 0 0 0;\n",
              "      width: 32px;\n",
              "    }\n",
              "\n",
              "    .colab-df-convert:hover {\n",
              "      background-color: #E2EBFA;\n",
              "      box-shadow: 0px 1px 2px rgba(60, 64, 67, 0.3), 0px 1px 3px 1px rgba(60, 64, 67, 0.15);\n",
              "      fill: #174EA6;\n",
              "    }\n",
              "\n",
              "    [theme=dark] .colab-df-convert {\n",
              "      background-color: #3B4455;\n",
              "      fill: #D2E3FC;\n",
              "    }\n",
              "\n",
              "    [theme=dark] .colab-df-convert:hover {\n",
              "      background-color: #434B5C;\n",
              "      box-shadow: 0px 1px 3px 1px rgba(0, 0, 0, 0.15);\n",
              "      filter: drop-shadow(0px 1px 2px rgba(0, 0, 0, 0.3));\n",
              "      fill: #FFFFFF;\n",
              "    }\n",
              "  </style>\n",
              "\n",
              "      <script>\n",
              "        const buttonEl =\n",
              "          document.querySelector('#df-54b1cbed-9813-44f7-b8d1-8b26bd4947fb button.colab-df-convert');\n",
              "        buttonEl.style.display =\n",
              "          google.colab.kernel.accessAllowed ? 'block' : 'none';\n",
              "\n",
              "        async function convertToInteractive(key) {\n",
              "          const element = document.querySelector('#df-54b1cbed-9813-44f7-b8d1-8b26bd4947fb');\n",
              "          const dataTable =\n",
              "            await google.colab.kernel.invokeFunction('convertToInteractive',\n",
              "                                                     [key], {});\n",
              "          if (!dataTable) return;\n",
              "\n",
              "          const docLinkHtml = 'Like what you see? Visit the ' +\n",
              "            '<a target=\"_blank\" href=https://colab.research.google.com/notebooks/data_table.ipynb>data table notebook</a>'\n",
              "            + ' to learn more about interactive tables.';\n",
              "          element.innerHTML = '';\n",
              "          dataTable['output_type'] = 'display_data';\n",
              "          await google.colab.output.renderOutput(dataTable, element);\n",
              "          const docLink = document.createElement('div');\n",
              "          docLink.innerHTML = docLinkHtml;\n",
              "          element.appendChild(docLink);\n",
              "        }\n",
              "      </script>\n",
              "    </div>\n",
              "  </div>\n",
              "  "
            ]
          },
          "metadata": {},
          "execution_count": 20
        }
      ]
    },
    {
      "cell_type": "code",
      "source": [
        "qa_pairs_l2 = qa_pairs2.values.tolist()"
      ],
      "metadata": {
        "id": "5GAglmkhQrJ0"
      },
      "execution_count": 21,
      "outputs": []
    },
    {
      "cell_type": "code",
      "source": [
        "qa_pairs_ext = [] \n",
        "for i in range(10): \n",
        "  qa_pairs_ext += qa_pairs_l2[i * 6000:i * 6000 + 500] "
      ],
      "metadata": {
        "id": "r_0Bamvs6lDz"
      },
      "execution_count": 22,
      "outputs": []
    },
    {
      "cell_type": "code",
      "source": [
        "len(qa_pairs_ext)"
      ],
      "metadata": {
        "colab": {
          "base_uri": "https://localhost:8080/"
        },
        "id": "NKCMe0kY8cAB",
        "outputId": "2078f0de-b79b-43ba-ed13-0e4515523e1b"
      },
      "execution_count": 23,
      "outputs": [
        {
          "output_type": "execute_result",
          "data": {
            "text/plain": [
              "5000"
            ]
          },
          "metadata": {},
          "execution_count": 23
        }
      ]
    },
    {
      "cell_type": "markdown",
      "source": [
        "## Models"
      ],
      "metadata": {
        "id": "4xCfGCByQNbh"
      }
    },
    {
      "cell_type": "code",
      "metadata": {
        "id": "SY8iyFANBeXa"
      },
      "source": [
        "# question = input(\"Enter question: \") "
      ],
      "execution_count": null,
      "outputs": []
    },
    {
      "cell_type": "code",
      "metadata": {
        "id": "3zJORZi3CUid"
      },
      "source": [
        "def getKeywords(question): \n",
        "    tagged = nltk.pos_tag(nltk.word_tokenize(question)) \n",
        "    # print(question)\n",
        "    # print(tagged) \n",
        "\n",
        "    # The NLTK POS Tagger follows the Penn Treebank Project tag conventions \n",
        "    # Only the following kinds of words are extracted from the query as keywords \n",
        "    limit = ['FW', 'JJ', 'JJS', 'JJR', 'NN', 'NNS', 'NNP', 'NNPS', 'SYM', 'VB'] \n",
        "    keywords = [i[0] for i in tagged if i[1] in limit]\n",
        "    # print(keywords) \n",
        "    return keywords "
      ],
      "execution_count": 56,
      "outputs": []
    },
    {
      "cell_type": "code",
      "metadata": {
        "id": "1jb4l8jaChel"
      },
      "source": [
        "# keywords = getKeywords(question)"
      ],
      "execution_count": null,
      "outputs": []
    },
    {
      "cell_type": "code",
      "metadata": {
        "id": "UrU0ESfcYc46"
      },
      "source": [
        "\n",
        "# ql = len(question)"
      ],
      "execution_count": 27,
      "outputs": []
    },
    {
      "cell_type": "code",
      "metadata": {
        "id": "2WWSdNVvE0Rg"
      },
      "source": [
        "def cosSim(question, qa_pairs_l): \n",
        "  res = {}\n",
        "  subs =[]\n",
        "  for i in range(len(qa_pairs_l)): \n",
        "    subs.append(qa_pairs_l[i][0])\n",
        "  subs.insert(0, question) \n",
        "  tfidf = TfidfVectorizer().fit_transform(subs) \n",
        "  cosSims = linear_kernel(tfidf[0:1], tfidf).flatten() \n",
        "  i = 1 \n",
        "  while i < len(subs): \n",
        "    subs[i] = i - 1 \n",
        "    i += 1 \n",
        "  subs = dict(zip(subs, cosSims)) \n",
        "  subs = dict(sorted(subs.items(), key = lambda item: item[1], reverse = True)) \n",
        "  # print(subs)\n",
        "  subsk = list(subs.keys()) \n",
        "  subsv = list(subs.values()) \n",
        "  i = 1 \n",
        "  while i < 10: \n",
        "    res[subsk[i]] = subsv[i] \n",
        "    i += 1 \n",
        "  res = sorted(res.items(), key = lambda i: i[1], reverse = True) \n",
        "  return res \n"
      ],
      "execution_count": 28,
      "outputs": []
    },
    {
      "cell_type": "code",
      "metadata": {
        "id": "YHQSI_6uCkVJ"
      },
      "source": [
        "def diceMetric(keywords, qa_pairs_l, ql): \n",
        "  res = {}\n",
        "  for i in range(len(qa_pairs_l)): \n",
        "    count = 0 \n",
        "    for j in keywords: \n",
        "      if j in qa_pairs_l[i][0]: \n",
        "        count += 1 \n",
        "    count *= 2 \n",
        "    count /= (ql + len(qa_pairs_l[i][0])) \n",
        "    res[i] = count \n",
        "  res = sorted(res.items(), key = lambda i: i[1]) \n",
        "  res = res[::-1]\n",
        "  return res[:10]"
      ],
      "execution_count": 29,
      "outputs": []
    },
    {
      "cell_type": "code",
      "metadata": {
        "id": "Fu_q9tKkiAW2"
      },
      "source": [
        "# c = cosSim(question, qa_pairs_l2)"
      ],
      "execution_count": 30,
      "outputs": []
    },
    {
      "cell_type": "code",
      "metadata": {
        "id": "X6IrlVFvsuP0"
      },
      "source": [
        "# print(c)"
      ],
      "execution_count": 31,
      "outputs": []
    },
    {
      "cell_type": "code",
      "metadata": {
        "id": "Pi38YaP5YyM-"
      },
      "source": [
        "# d = diceMetric(keywords, qa_pairs_l2, ql)"
      ],
      "execution_count": 32,
      "outputs": []
    },
    {
      "cell_type": "code",
      "metadata": {
        "id": "x2vyzgFUY3I6"
      },
      "source": [
        "# print(d)"
      ],
      "execution_count": 33,
      "outputs": []
    },
    {
      "cell_type": "code",
      "metadata": {
        "colab": {
          "base_uri": "https://localhost:8080/"
        },
        "id": "2IeOk1QXevyc",
        "outputId": "744ea1fb-99e4-46ab-d452-ee470c792990"
      },
      "source": [
        "stop_words = set(stopwords.words('english'))\n",
        "if \"the\" in stop_words: \n",
        "  print(\"Yes\")"
      ],
      "execution_count": 34,
      "outputs": [
        {
          "output_type": "stream",
          "name": "stdout",
          "text": [
            "Yes\n"
          ]
        }
      ]
    },
    {
      "cell_type": "code",
      "metadata": {
        "id": "VWZfDwW5Y5Pu"
      },
      "source": [
        "def levenshtein(question, res, qa_pairs_l): \n",
        "  qc = question.translate(str.maketrans('', '', string.punctuation)) \n",
        "  tq = qc.split(\" \")\n",
        "  fin = {}\n",
        "  for i in res: \n",
        "    curr = qa_pairs_l[i[0]][0].translate(str.maketrans('', '', string.punctuation)) \n",
        "    tcurr = curr.split(\" \") \n",
        "    count = 0 \n",
        "    for j in tq: \n",
        "      if j not in stop_words and j in tcurr: \n",
        "        count += 1 \n",
        "    fin[i[0]] = count * i[1] \n",
        "    # fin[i[0]] = count \n",
        "  fin = sorted(fin.items(), key = lambda i: i[1]) \n",
        "  # print(fin)\n",
        "  return fin[-1][0] \n",
        "  # return fin[0][0]"
      ],
      "execution_count": 35,
      "outputs": []
    },
    {
      "cell_type": "code",
      "metadata": {
        "id": "0eTJc897d07Q"
      },
      "source": [
        "def levenshtein_mod(question, res, qa_pairs_l): \n",
        "  qc = question.translate(str.maketrans('', '', string.punctuation)) \n",
        "  tq = qc.split(\" \")\n",
        "  fin = {}\n",
        "  for i in range(len(res)): \n",
        "    curr = qa_pairs_l[i][0].translate(str.maketrans('', '', string.punctuation)) \n",
        "    tcurr = curr.split(\" \") \n",
        "    count = 0 \n",
        "    for j in tq: \n",
        "      if j not in stop_words and j in tcurr: \n",
        "        count += 1 \n",
        "    fin[i] = count\n",
        "  fin = sorted(fin.items(), key = lambda i: i[1]) \n",
        "  # print(fin)\n",
        "  return fin[-1][0] \n",
        "  # return fin[0][0] "
      ],
      "execution_count": 36,
      "outputs": []
    },
    {
      "cell_type": "code",
      "metadata": {
        "id": "byPjOfq3s7pI"
      },
      "source": [
        "# ind = levenshtein(question, c, qa_pairs_l2) "
      ],
      "execution_count": 37,
      "outputs": []
    },
    {
      "cell_type": "code",
      "metadata": {
        "id": "JV2sY-engVf2"
      },
      "source": [
        "# ind = levenshtein(question, d, qa_pairs_l2) "
      ],
      "execution_count": 38,
      "outputs": []
    },
    {
      "cell_type": "code",
      "metadata": {
        "id": "hZiF0htdgg4n"
      },
      "source": [
        "# print(ind)"
      ],
      "execution_count": 39,
      "outputs": []
    },
    {
      "cell_type": "code",
      "metadata": {
        "id": "JgjDn1-_gpDc"
      },
      "source": [
        "# print(qa_pairs_l2[ind])"
      ],
      "execution_count": 40,
      "outputs": []
    },
    {
      "cell_type": "code",
      "metadata": {
        "id": "aI4s7o5yg3KR"
      },
      "source": [
        "def encaps(question, qa_pairs_l): \n",
        "  keywords = getKeywords(question) \n",
        "  ql = len(question) \n",
        "  \n",
        "  # Only Levenstein with count\n",
        "  # ind = levenshtein_mod(question, qa_pairs_l, qa_pairs_l) \n",
        "\n",
        "  # Dice + Levenshtein without mult \n",
        "  # d = diceMetric(keywords, qa_pairs_l, ql) \n",
        "  # stop_words = set(stopwords.words('english')) \n",
        "  # ind = levenshtein(question, d, qa_pairs_l) # Reverse fin lines\n",
        "\n",
        "  # Dice + Levenshtein with mult \n",
        "  # d = diceMetric(keywords, qa_pairs_l, ql) \n",
        "  # stop_words = set(stopwords.words('english')) \n",
        "  # ind = levenshtein(question, d, qa_pairs_l) \n",
        "\n",
        "  # CosSim only \n",
        "  # ind = cosSim(question, qa_pairs_l) \n",
        "\n",
        "  # CosSim + Levenshtein without mult \n",
        "  # c = cosSim(question, qa_pairs_l) \n",
        "  # ind = levenshtein(question, c, qa_pairs_l) # Reverse fin lines \n",
        "\n",
        "  # CosSim + Levenshtein with mult \n",
        "  c = cosSim(question, qa_pairs_l) \n",
        "  ind = levenshtein(question, c, qa_pairs_l) \n",
        "  \n",
        "  # print(qa_pairs_l[ind])\n",
        "  return ind "
      ],
      "execution_count": 48,
      "outputs": []
    },
    {
      "cell_type": "code",
      "metadata": {
        "id": "3X0i_8-b52WK"
      },
      "source": [
        "# ans = encaps(question, qa_pairs_l2)"
      ],
      "execution_count": null,
      "outputs": []
    },
    {
      "cell_type": "code",
      "metadata": {
        "id": "-4rv1HOobL0u"
      },
      "source": [
        "# print(ans)"
      ],
      "execution_count": null,
      "outputs": []
    },
    {
      "cell_type": "code",
      "source": [
        "# print(qa_pairs_l2[ans][2])"
      ],
      "metadata": {
        "id": "hvmqf9pBPkpx"
      },
      "execution_count": null,
      "outputs": []
    },
    {
      "cell_type": "markdown",
      "source": [
        "## System"
      ],
      "metadata": {
        "id": "voFT-HfqQUD5"
      }
    },
    {
      "cell_type": "code",
      "source": [
        "#@title Enter a question! { run: \"auto\", vertical-output: true }\n",
        "Question = \"What makes frienship Click?\" #@param {type:\"string\"} \n",
        "Dataset = \"Yahoo! Answers Topic Classification Dataset - 2007\" #@param [\"Yahoo! Answers Dataset for cQA - 2010\", \"Yahoo! Answers Topic Classification Dataset - 2007\"]\n",
        "\n",
        "qa_pairs_l = qa_pairs_l1 \n",
        "if Dataset == \"Yahoo! Answers Topic Classification Dataset - 2007\": \n",
        "  qa_pairs_l = qa_pairs_l2 \n",
        "\n",
        "ans = encaps(question, qa_pairs_l) \n",
        "print(\"The answer retrieved is: \") \n",
        "print(qa_pairs_l[ans][2])"
      ],
      "metadata": {
        "colab": {
          "base_uri": "https://localhost:8080/"
        },
        "id": "WGDZvQSrQTOq",
        "outputId": "8f718542-e883-4675-b7cd-0d59a098a4b7"
      },
      "execution_count": 55,
      "outputs": [
        {
          "output_type": "stream",
          "name": "stdout",
          "text": [
            "What makes friendship Click\n",
            "[('What', 'WP'), ('makes', 'VBZ'), ('friendship', 'NN'), ('Click', 'NNP')]\n",
            "['friendship', 'Click']\n",
            "The answer retrieved is: \n",
            "good communication is what does it.  Can you move beyond small talk and say what's really on your mind.  If you start doing this, my expereince is that potentially good friends will respond or shun you.  Then you know who the really good friends are.\n"
          ]
        }
      ]
    },
    {
      "cell_type": "markdown",
      "source": [
        "## Evaluation"
      ],
      "metadata": {
        "id": "V40loO7bP8kG"
      }
    },
    {
      "cell_type": "code",
      "metadata": {
        "id": "ULNMug3Q58_j"
      },
      "source": [
        "def eval(qa_pairs_l): \n",
        "  count = 0 \n",
        "  for i in range(len(qa_pairs_l)): \n",
        "    q = qa_pairs_l[i][0]\n",
        "    ans = encaps(q, qa_pairs_l) \n",
        "    if qa_pairs_l[ans][0] == q: \n",
        "      count += 1 \n",
        "  ratio = count / len(qa_pairs_l) \n",
        "  return ratio"
      ],
      "execution_count": null,
      "outputs": []
    },
    {
      "cell_type": "code",
      "metadata": {
        "id": "K_7xiv00JT0A"
      },
      "source": [
        "def eval_mod(qa_pairs_l): \n",
        "  precision = 0 \n",
        "  recall = 0 \n",
        "  for i in range(len(qa_pairs_l)): \n",
        "    q = qa_pairs_l[i][0]\n",
        "    ans = encaps(q, qa_pairs_l) \n",
        "    if qa_pairs_l[ans][0] == q: \n",
        "      precision += 1 \n",
        "      recall += 1 \n",
        "    else: \n",
        "      shared = 0 \n",
        "      qset = list(set(q.split(\" \"))) \n",
        "      ansset = list(set(qa_pairs_l[ans][0].split(\" \")))\n",
        "      for j in qset: \n",
        "        if j in ansset: \n",
        "          shared += 1 \n",
        "      # print(shared / len(qa_pairs_l[ans][0]), i)\n",
        "      precision += shared / len(qa_pairs_l[ans][0]) \n",
        "      recall += shared / len(q) \n",
        "  precision /= len(qa_pairs_l) \n",
        "  recall /= len(qa_pairs_l) \n",
        "  print(precision, recall) \n",
        "  fscore = 2 * (precision * recall) / (precision + recall) \n",
        "  return fscore "
      ],
      "execution_count": null,
      "outputs": []
    },
    {
      "cell_type": "code",
      "metadata": {
        "id": "y0nP-Edv8Mex",
        "colab": {
          "base_uri": "https://localhost:8080/"
        },
        "outputId": "d9cee2e9-52c8-4b08-bb14-844cd95ad0b5"
      },
      "source": [
        "eval(qa_pairs_ext)"
      ],
      "execution_count": null,
      "outputs": [
        {
          "output_type": "execute_result",
          "data": {
            "text/plain": [
              "0.9986"
            ]
          },
          "metadata": {},
          "execution_count": 112
        }
      ]
    },
    {
      "cell_type": "code",
      "metadata": {
        "id": "XVXFRX3fNAvd",
        "colab": {
          "base_uri": "https://localhost:8080/"
        },
        "outputId": "eb1a3721-a2e3-4730-e5d6-8bec2b1161c0"
      },
      "source": [
        "eval_mod(qa_pairs_ext)"
      ],
      "execution_count": null,
      "outputs": [
        {
          "output_type": "stream",
          "name": "stdout",
          "text": [
            "0.9987204440827714 0.9987769863469861\n"
          ]
        },
        {
          "output_type": "execute_result",
          "data": {
            "text/plain": [
              "0.9987487144146204"
            ]
          },
          "metadata": {},
          "execution_count": 113
        }
      ]
    },
    {
      "cell_type": "code",
      "metadata": {
        "id": "PiBfmLz9AvBg"
      },
      "source": [
        ""
      ],
      "execution_count": null,
      "outputs": []
    }
  ]
}